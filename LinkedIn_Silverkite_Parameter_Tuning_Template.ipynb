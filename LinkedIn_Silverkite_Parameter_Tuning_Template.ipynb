{
  "nbformat": 4,
  "nbformat_minor": 0,
  "metadata": {
    "colab": {
      "provenance": [],
      "mount_file_id": "1m2tyDg_asqzsIjeqAUHjOByS4ZnMscXB",
      "authorship_tag": "ABX9TyPljsb3TEaADngZpTGKB11g",
      "include_colab_link": true
    },
    "kernelspec": {
      "name": "python3",
      "display_name": "Python 3"
    },
    "language_info": {
      "name": "python"
    }
  },
  "cells": [
    {
      "cell_type": "markdown",
      "metadata": {
        "id": "view-in-github",
        "colab_type": "text"
      },
      "source": [
        "<a href=\"https://colab.research.google.com/github/mrcruz117/linkedin-silverkite-forecast-templates/blob/main/LinkedIn_Silverkite_Parameter_Tuning_Template.ipynb\" target=\"_parent\"><img src=\"https://colab.research.google.com/assets/colab-badge.svg\" alt=\"Open In Colab\"/></a>"
      ]
    },
    {
      "cell_type": "markdown",
      "source": [
        "# Silverkite Parameter Tuning"
      ],
      "metadata": {
        "id": "Sf8V0tK0UStq"
      }
    },
    {
      "cell_type": "code",
      "execution_count": 1,
      "metadata": {
        "colab": {
          "base_uri": "https://localhost:8080/"
        },
        "id": "WYA0ZnUCT-tE",
        "outputId": "2377650e-6c8d-446f-b8af-a9a259c4d1e7"
      },
      "outputs": [
        {
          "output_type": "stream",
          "name": "stdout",
          "text": [
            "/content/drive/MyDrive/Time Series Forecasting Product\n"
          ]
        }
      ],
      "source": [
        "#change directory\n",
        "%cd /content/drive/MyDrive/Time Series Forecasting Product"
      ]
    },
    {
      "cell_type": "code",
      "source": [
        "# !pip install greykite"
      ],
      "metadata": {
        "collapsed": true,
        "id": "MGVFole2V29G"
      },
      "execution_count": 3,
      "outputs": []
    },
    {
      "cell_type": "code",
      "source": [
        "#libraries\n",
        "import numpy as np\n",
        "import pandas as pd\n",
        "import matplotlib.pyplot as plt\n",
        "from greykite.framework.templates.autogen.forecast_config import *\n",
        "from greykite.framework.templates.forecaster import Forecaster\n",
        "from greykite.framework.templates.model_templates import ModelTemplateEnum\n",
        "from greykite.common.features.timeseries_features import *\n",
        "from greykite.common.evaluation import EvaluationMetricEnum\n",
        "from greykite.framework.utils.result_summary import summarize_grid_search_results\n",
        "from plotly.offline import iplot"
      ],
      "metadata": {
        "id": "BOAzqwX9VfB7"
      },
      "execution_count": 5,
      "outputs": []
    },
    {
      "cell_type": "code",
      "source": [],
      "metadata": {
        "id": "8MmqCg02ViNA"
      },
      "execution_count": null,
      "outputs": []
    }
  ]
}